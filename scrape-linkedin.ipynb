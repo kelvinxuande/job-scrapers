{
 "cells": [
  {
   "cell_type": "code",
   "execution_count": 1,
   "metadata": {},
   "outputs": [],
   "source": [
    "from selenium import webdriver\n",
    "from selenium.webdriver.firefox.options import Options\n",
    "from selenium.webdriver.support.ui import WebDriverWait\n",
    "from selenium.webdriver.support import expected_conditions as EC\n",
    "\n",
    "from selenium.webdriver.common.by import By\n",
    "from bs4 import BeautifulSoup\n",
    "import time\n",
    "import os\n",
    "from dotenv import load_dotenv\n",
    "\n",
    "# create a webdriver instance\n",
    "# latest headless options: https://stackoverflow.com/questions/46753393/how-to-run-headless-firefox-with-selenium-in-python\n",
    "options = Options()\n",
    "# options.add_argument(\"-headless\")\n",
    "options.add_argument(\"-privatebrowsing\")\n",
    "\n",
    "driver = webdriver.Firefox(options=options)\n",
    "# print(\"Headless Firefox Initialized\")\n",
    "\n",
    "# Opening linkedIn's login page\n",
    "driver.get(\"https://linkedin.com/uas/login\")\n",
    "# driver.get(\"http://google.com/\")\n",
    " \n",
    "# waiting for the page to load\n",
    "time.sleep(3)"
   ]
  },
  {
   "cell_type": "code",
   "execution_count": 2,
   "metadata": {},
   "outputs": [
    {
     "data": {
      "text/plain": [
       "True"
      ]
     },
     "execution_count": 2,
     "metadata": {},
     "output_type": "execute_result"
    }
   ],
   "source": [
    "load_dotenv()"
   ]
  },
  {
   "cell_type": "markdown",
   "metadata": {},
   "source": [
    "Login To LinkedIn using provided credentials"
   ]
  },
  {
   "cell_type": "code",
   "execution_count": 3,
   "metadata": {},
   "outputs": [],
   "source": [
    "# entering username\n",
    "username = driver.find_element(By.ID, \"username\")\n",
    " \n",
    "# Enter Your Email Address\n",
    "username.send_keys(os.getenv('USERNAME'))  \n",
    " \n",
    "# entering password\n",
    "pword = driver.find_element(By.ID, \"password\")\n",
    " \n",
    "# Enter Your Password\n",
    "pword.send_keys(os.getenv('PASSWORD'))\n",
    "\n",
    "# Clicking on the log in button\n",
    "# Format (syntax) of writing XPath --> \n",
    "# //tagname[@attribute='value']\n",
    "driver.find_element(By.XPATH, \"//button[@type='submit']\").click()\n",
    "\n",
    "# waiting for the page to load\n",
    "time.sleep(3)"
   ]
  },
  {
   "cell_type": "markdown",
   "metadata": {},
   "source": [
    "Bypass Job search Inputs and use user provided base url"
   ]
  },
  {
   "cell_type": "code",
   "execution_count": 4,
   "metadata": {},
   "outputs": [],
   "source": [
    "# driver.get(\"https://www.linkedin.com/jobs/search/\")\n",
    "# # jobs.click()\n",
    "\n",
    "# wait = WebDriverWait(driver, 10)\n",
    "# wait.until(EC.url_changes('https://www.linkedin.com/jobs/search/'))\n",
    "# get_url = driver.current_url\n",
    "# print(\"The current url is:\"+str(get_url))\n",
    "\n",
    "# # waiting for the page to load\n",
    "# time.sleep(3)"
   ]
  },
  {
   "cell_type": "code",
   "execution_count": 5,
   "metadata": {},
   "outputs": [],
   "source": [
    "# # entering username\n",
    "# TITLE_SKILL_COMPANY_INPUT = driver.find_element(By.XPATH, \"//*[@id='jobs-search-box-keyword-id-ember142']\")\n",
    " \n",
    "# # Enter Your Email Address\n",
    "# TITLE_SKILL_COMPANY_INPUT.send_keys(os.getenv('TITLE_SKILL_COMPANY'))  \n",
    " \n",
    "# # entering password\n",
    "# LOCATION_INPUT = driver.find_element(By.XPATH, \"//*[@id='jobs-search-box-location-id-ember142']\")\n",
    " \n",
    "# # Enter Your Password\n",
    "# LOCATION_INPUT.send_keys(os.getenv('LOCATION'))\n",
    "\n",
    "# # Clicking on the log in button\n",
    "# # Format (syntax) of writing XPath --> \n",
    "# # //tagname[@attribute='value']\n",
    "# driver.find_element(By.CLASS_NAME, \"jobs-search-box__submit-button\").click()\n",
    "\n",
    "# # waiting for the page to load\n",
    "# time.sleep(3)"
   ]
  },
  {
   "cell_type": "markdown",
   "metadata": {},
   "source": [
    "Navigate to user provided url"
   ]
  },
  {
   "cell_type": "code",
   "execution_count": 6,
   "metadata": {},
   "outputs": [],
   "source": [
    "driver.get(os.getenv(\"USER_PROVIDED_URL\"))\n",
    "time.sleep(3)"
   ]
  },
  {
   "cell_type": "markdown",
   "metadata": {},
   "source": [
    "Save first page for analysis"
   ]
  },
  {
   "cell_type": "code",
   "execution_count": 7,
   "metadata": {},
   "outputs": [],
   "source": [
    "# first_page = driver.page_source\n",
    " \n",
    "# soup = BeautifulSoup(first_page, 'lxml')\n",
    "# # print(soup)\n",
    "# with open(\"first_page.html\", \"w\", encoding='utf-8') as file:\n",
    "#     file.write(str(soup))"
   ]
  },
  {
   "cell_type": "code",
   "execution_count": 8,
   "metadata": {},
   "outputs": [
    {
     "name": "stdout",
     "output_type": "stream",
     "text": [
      "461\n"
     ]
    }
   ],
   "source": [
    "# with open('first_page.html', 'r', encoding='utf-8') as f:\n",
    "    # contents = f.read()\n",
    "\n",
    "first_page = driver.page_source\n",
    "\n",
    "soup = BeautifulSoup(first_page, 'lxml')\n",
    "num_results_div = soup.find(\"div\", attrs={\"class\": \"jobs-search-results-list__subtitle\"})\n",
    "num_results_text = num_results_div.span.get_text(strip=True)\n",
    "int_num_results = int(num_results_text.split()[0])\n",
    "assert isinstance(int_num_results, int) and int_num_results > 0\n",
    "print(int_num_results)"
   ]
  },
  {
   "cell_type": "code",
   "execution_count": 9,
   "metadata": {},
   "outputs": [],
   "source": [
    "job_post_ids=set()"
   ]
  },
  {
   "cell_type": "markdown",
   "metadata": {},
   "source": [
    "Fetch all job post ids from first page"
   ]
  },
  {
   "cell_type": "code",
   "execution_count": 10,
   "metadata": {},
   "outputs": [],
   "source": [
    "_base_url = os.getenv(\"USER_PROVIDED_URL\")\n",
    "_postfix = \"&start=25\"\n",
    "page_url = _base_url + _postfix\n",
    "\n",
    "driver.get(_base_url)\n",
    "time.sleep(3)"
   ]
  },
  {
   "cell_type": "code",
   "execution_count": 11,
   "metadata": {},
   "outputs": [
    {
     "name": "stdout",
     "output_type": "stream",
     "text": [
      "25 {'3671494251', '3768307950', '3768271648', '3745348244', '3782021313', '3677324427', '3765035699', '3744792120', '3779142461', '3669875571', '3736318809', '3318540515', '3782387384', '3771842589', '3782021314', '3771473060', '3767698415', '3784202883', '3724278418', '3788620053', '3727898864', '3771461550', '3784377594', '3738246097', '3701158703'}\n"
     ]
    }
   ],
   "source": [
    "# with open('first_page.html', 'r', encoding='utf-8') as f:\n",
    "\n",
    "#     contents = f.read()\n",
    "\n",
    "#     soup = BeautifulSoup(contents, 'lxml')\n",
    "#     job_post_divs = soup.find_all('div', attrs={\"data-view-name\": \"job-card\"})\n",
    "\n",
    "#     for div in job_post_divs:\n",
    "#         job_post_ids.append(div[\"data-job-id\"])\n",
    "\n",
    "#     job_post_lis = soup.find_all('li', attrs={'data-occludable-job-id': True})\n",
    "\n",
    "#     for li in job_post_lis:\n",
    "#         job_post_ids.append(li[\"data-occludable-job-id\"])\n",
    "\n",
    "\n",
    "page = driver.page_source\n",
    " \n",
    "soup = BeautifulSoup(page, 'lxml')\n",
    "job_post_divs = soup.find_all('div', attrs={\"data-view-name\": \"job-card\"})\n",
    "\n",
    "for div in job_post_divs:\n",
    "    job_post_ids.add(div[\"data-job-id\"])\n",
    "\n",
    "job_post_lis = soup.find_all('li', attrs={'data-occludable-job-id': True})\n",
    "\n",
    "for li in job_post_lis:\n",
    "    job_post_ids.add(li[\"data-occludable-job-id\"])\n",
    "\n",
    "print(len(job_post_ids), job_post_ids)"
   ]
  },
  {
   "cell_type": "code",
   "execution_count": 12,
   "metadata": {},
   "outputs": [],
   "source": [
    "_base_url = os.getenv(\"USER_PROVIDED_URL\")\n",
    "_postfix = \"&start=25\"\n",
    "page_url = _base_url + _postfix\n",
    "\n",
    "driver.get(page_url)\n",
    "time.sleep(3)"
   ]
  },
  {
   "cell_type": "code",
   "execution_count": 13,
   "metadata": {},
   "outputs": [
    {
     "name": "stdout",
     "output_type": "stream",
     "text": [
      "50 {'3744793070', '3787295550', '3726119674', '3671494251', '3718951907', '3782760110', '3775444318', '3728589956', '3768307950', '3782227000', '3768271648', '3738247233', '3745348244', '3782021313', '3677324427', '3793892955', '3774303768', '3793278953', '3765035699', '3744792120', '3789945931', '3787858840', '3744788471', '3779142461', '3669875571', '3736318809', '3318540515', '3674404146', '3793897142', '3782387384', '3789712364', '3771458958', '3771842589', '3782021314', '3774303687', '3787800069', '3793618353', '3771473060', '3767698415', '3784202883', '3724278418', '3788620053', '3745518697', '3727898864', '3771461550', '3784377594', '3738246097', '3741489382', '3788272820', '3701158703'}\n"
     ]
    }
   ],
   "source": [
    "# with open('first_page.html', 'r', encoding='utf-8') as f:\n",
    "\n",
    "#     contents = f.read()\n",
    "\n",
    "#     soup = BeautifulSoup(contents, 'lxml')\n",
    "#     job_post_divs = soup.find_all('div', attrs={\"data-view-name\": \"job-card\"})\n",
    "\n",
    "#     for div in job_post_divs:\n",
    "#         job_post_ids.append(div[\"data-job-id\"])\n",
    "\n",
    "#     job_post_lis = soup.find_all('li', attrs={'data-occludable-job-id': True})\n",
    "\n",
    "#     for li in job_post_lis:\n",
    "#         job_post_ids.append(li[\"data-occludable-job-id\"])\n",
    "\n",
    "page = driver.page_source\n",
    " \n",
    "soup = BeautifulSoup(page, 'lxml')\n",
    "job_post_divs = soup.find_all('div', attrs={\"data-view-name\": \"job-card\"})\n",
    "\n",
    "for div in job_post_divs:\n",
    "    job_post_ids.add(div[\"data-job-id\"])\n",
    "\n",
    "job_post_lis = soup.find_all('li', attrs={'data-occludable-job-id': True})\n",
    "\n",
    "for li in job_post_lis:\n",
    "    job_post_ids.add(li[\"data-occludable-job-id\"])\n",
    "\n",
    "print(len(job_post_ids), job_post_ids)"
   ]
  },
  {
   "cell_type": "code",
   "execution_count": 14,
   "metadata": {},
   "outputs": [],
   "source": [
    "# driver.quit()"
   ]
  }
 ],
 "metadata": {
  "kernelspec": {
   "display_name": "job_scrapers",
   "language": "python",
   "name": "python3"
  },
  "language_info": {
   "codemirror_mode": {
    "name": "ipython",
    "version": 3
   },
   "file_extension": ".py",
   "mimetype": "text/x-python",
   "name": "python",
   "nbconvert_exporter": "python",
   "pygments_lexer": "ipython3",
   "version": "3.8.10"
  }
 },
 "nbformat": 4,
 "nbformat_minor": 2
}
