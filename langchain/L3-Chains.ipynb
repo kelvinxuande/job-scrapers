{
 "cells": [
  {
   "cell_type": "markdown",
   "id": "52824b89-532a-4e54-87e9-1410813cd39e",
   "metadata": {},
   "source": [
    "# Chains in LangChain\n",
    "\n",
    "## Outline\n",
    "\n",
    "* LLMChain\n",
    "* Sequential Chains\n",
    "  * SimpleSequentialChain\n",
    "  * SequentialChain\n",
    "* Router Chain"
   ]
  },
  {
   "cell_type": "code",
   "execution_count": 1,
   "id": "541eb2f1",
   "metadata": {
    "tags": []
   },
   "outputs": [],
   "source": [
    "import warnings\n",
    "warnings.filterwarnings('ignore')"
   ]
  },
  {
   "cell_type": "code",
   "execution_count": 2,
   "id": "b7ed03ed-1322-49e3-b2a2-33e94fb592ef",
   "metadata": {
    "tags": []
   },
   "outputs": [],
   "source": [
    "import os\n",
    "\n",
    "from dotenv import load_dotenv, find_dotenv\n",
    "_ = load_dotenv(find_dotenv()) # read local .env file"
   ]
  },
  {
   "cell_type": "markdown",
   "id": "9f3b61a3-92eb-4891-90ee-1d10607b05ad",
   "metadata": {},
   "source": [
    "Note: LLM's do not always produce the same results. When executing the code in your notebook, you may get slightly different answers that those in the video."
   ]
  },
  {
   "cell_type": "code",
   "execution_count": 3,
   "id": "4336d784-65c2-4a11-8489-b445b1fad177",
   "metadata": {},
   "outputs": [],
   "source": [
    "# account for deprecation of LLM model\n",
    "import datetime\n",
    "# Get the current date\n",
    "current_date = datetime.datetime.now().date()\n",
    "\n",
    "# Define the date after which the model should be set to \"gpt-3.5-turbo\"\n",
    "target_date = datetime.date(2024, 6, 12)\n",
    "\n",
    "# Set the model variable based on the current date\n",
    "if current_date > target_date:\n",
    "    llm_model = \"gpt-3.5-turbo\"\n",
    "else:\n",
    "    llm_model = \"gpt-3.5-turbo-0301\""
   ]
  },
  {
   "cell_type": "code",
   "execution_count": 4,
   "id": "b84e441b",
   "metadata": {
    "tags": []
   },
   "outputs": [],
   "source": [
    "#!pip install pandas"
   ]
  },
  {
   "cell_type": "code",
   "execution_count": 5,
   "id": "974acf8e-8f88-42de-88f8-40a82cb58e8b",
   "metadata": {
    "tags": []
   },
   "outputs": [],
   "source": [
    "# import pandas as pd\n",
    "# df = pd.read_csv('Data.csv')"
   ]
  },
  {
   "cell_type": "code",
   "execution_count": 6,
   "id": "b7a09c35",
   "metadata": {
    "tags": []
   },
   "outputs": [],
   "source": [
    "# df.head()"
   ]
  },
  {
   "cell_type": "markdown",
   "id": "b940ce7c",
   "metadata": {},
   "source": [
    "## LLMChain"
   ]
  },
  {
   "cell_type": "code",
   "execution_count": 7,
   "id": "e92dff22",
   "metadata": {
    "tags": []
   },
   "outputs": [],
   "source": [
    "from langchain.chat_models import ChatOpenAI\n",
    "from langchain.prompts import ChatPromptTemplate\n",
    "from langchain.chains import LLMChain"
   ]
  },
  {
   "cell_type": "code",
   "execution_count": 8,
   "id": "943237a7",
   "metadata": {
    "tags": []
   },
   "outputs": [],
   "source": [
    "llm = ChatOpenAI(temperature=0.9, model=llm_model)"
   ]
  },
  {
   "cell_type": "code",
   "execution_count": 9,
   "id": "a271ab1b",
   "metadata": {},
   "outputs": [],
   "source": [
    "prompt = ChatPromptTemplate.from_template(\n",
    "    \"Given a list of technical technologies: {technologies}; \\\n",
    "    what is a potential learning path I can go about learning them all? Be specific and list down steps to learn each of them.\"\n",
    ")"
   ]
  },
  {
   "cell_type": "code",
   "execution_count": 10,
   "id": "c58f9908",
   "metadata": {},
   "outputs": [],
   "source": [
    "chain = LLMChain(llm=llm, prompt=prompt)"
   ]
  },
  {
   "cell_type": "code",
   "execution_count": 11,
   "id": "c7637fe3",
   "metadata": {},
   "outputs": [
    {
     "data": {
      "text/plain": [
       "'As an AI language model, I cannot provide you with a specific learning path. However, here are some general steps you can follow to learn each of these technical technologies: \\n\\n1. Python: Start with the basics of Python programming language, such as data types, variables, operators, loops, and functions. Then move to more advanced topics like object-oriented programming, modules, and libraries. Practice coding exercises, take online courses, and read books to enhance your skills in Python programming.\\n\\n2. SQL: Learn SQL basics such as data modeling, database design, data manipulation, data querying, and database maintenance. Then, move on to advanced topics like data warehousing, data mining, and performance tuning. Practice with a real-world database system and take online courses or read books to enhance your knowledge of SQL.\\n\\n3. Java: Start by learning the basics of Java programming, such as data types, variables, arrays, loops, and functions. Then, move on to advanced topics like object-oriented programming, multithreading, and GUI programming. Practice coding exercises and take online courses or read books to improve your Java programming skills.\\n\\n4. Golang: Start with the basics of Golang programming, such as data types, variables, loops, and functions. Then move on to advanced topics like concurrency, networking, and web development. Practice coding exercises and take online courses or read books to enhance your Golang programming skills.\\n\\n5. MySQL: Learn MySQL basics such as data modeling, database design, data manipulation, data querying, and database maintenance. Then, move on to advanced topics like data warehousing, data mining, and performance tuning. Practice with a real-world database system and take online courses or read books to enhance your knowledge of MySQL.\\n\\n6. Snowflake: Learn Snowflake basics such as data modeling, database design, data manipulation, data querying, and database maintenance. Then, move on to advanced topics like data warehousing, data mining, and performance tuning. Practice with a real-world database system and take online courses or read books to enhance your knowledge of Snowflake.\\n\\n7. AWS: Learn AWS cloud computing services such as EC2, S3, RDS and Lambda. Then, move on to advanced topics like VPC, IAM, and CloudFormation. Practice using AWS services and take online courses or read books to enhance your AWS skills.\\n\\n8. Azure: Learn Azure cloud computing services such as App Services, Virtual Machines, and SQL Database. Then, move on to advanced topics like Azure Storage, Azure Functions, and Azure DevOps. Practice using Azure services and take online courses or read books to enhance your Azure skills.\\n\\n9. IBM: Learn IBM services such as Cloud Pak, Watson Assistant, and IBM Cloud Private. Then, move on to advanced topics like IBM Cloud Object Storage, IBM Watson Studio, and IBM Integration. Practice using IBM services and take online courses or read books to enhance your IBM skills.\\n\\n10. ReactJS: Learn ReactJS basics such as JSX, components, state, and props. Then, move on to advanced topics like React Router, Redux, and server-side rendering. Practice with real-world ReactJS projects and take online courses or read books to improve your ReactJS skills.\\n\\n11. Electron: Learn Electron basics such as creating a desktop application, packaging and distribution. Then, move on to advanced topics like building cross-platform apps, security considerations, and performance optimization. Practice by creating real-world desktop applications and take online courses or read books to enhance your Electron skills.\\n\\n12. Apache Spark: Learn Apache Spark basics such as RDDs, transformations, and actions. Then, move on to advanced topics like Spark Streaming, Spark SQL and Spark ML. Practice by building real-world data processing applications and take online courses or read books to enhance your Apache Spark skills.\\n\\n13. TensorFlow: Learn TensorFlow basics such as building computational graphs, training models, and deploying models. Then, move on to advanced topics like convolutional neural networks, recurrent neural networks and object detection. Practice by building real-world machine learning models and take online courses or read books to enhance your TensorFlow skills.'"
      ]
     },
     "execution_count": 11,
     "metadata": {},
     "output_type": "execute_result"
    }
   ],
   "source": [
    "technologies = \"python, sql, java, golang, mysql, snowflake, aws, azure, ibm, reactjs, electron, apache spark, tensorflow\"\n",
    "chain.run(technologies)"
   ]
  },
  {
   "cell_type": "code",
   "execution_count": 12,
   "id": "969e8274",
   "metadata": {},
   "outputs": [],
   "source": [
    "prompt = ChatPromptTemplate.from_template(\n",
    "    \"What is a potential learning path for {programming_scripting_markup_language}, \\\n",
    "    the programming, scripting or markup language?\"\n",
    ")"
   ]
  },
  {
   "cell_type": "code",
   "execution_count": 13,
   "id": "568bd319",
   "metadata": {},
   "outputs": [],
   "source": [
    "chain = LLMChain(llm=llm, prompt=prompt)"
   ]
  },
  {
   "cell_type": "code",
   "execution_count": 14,
   "id": "0a7d599a",
   "metadata": {},
   "outputs": [
    {
     "data": {
      "text/plain": [
       "'1. Learn the basics: Start with learning the syntax, variables, data types, and basic control structures in Python. This can be done by reading tutorials or taking an introductory Python course.\\n\\n2. Practice programming: The best way to learn any programming language is to practice programming. Practice writing simple programs and gradually move on to more complex programs and projects.\\n\\n3. Get familiar with libraries and frameworks: Python has a vast standard library with many modules for different purposes. Explore the library and learn how to use the modules. Also, learn about the popular Python frameworks such as Django, Flask, and Pyramid.\\n\\n4. Learn data science and machine learning: Python is widely used in the field of data science and machine learning. Learn libraries such as NumPy, Pandas, Matplotlib, and Scikit-Learn to perform data analysis and create machine learning models.\\n\\n5. Explore web development: Python can be used to build web applications. Learn about web frameworks such as Django and Flask. Also, get familiar with HTML, CSS, and JavaScript.\\n\\n6. Practice project-based learning: Build small projects that allow you to apply what you have learned in Python. This will help you gain practical experience and develop your problem-solving skills.\\n\\n7. Specialize in a specific field: There are many domains where Python is used. Pick a domain that interests you and specialize in it. For example, you can specialize in web development, data science, machine learning, game development, or network programming.\\n\\n8. Participate in online communities: Join online communities such as Reddit, Stack Overflow, or GitHub to learn from others and share your knowledge. Participate in discussions and contribute to open-source projects.\\n\\n9. Keep learning: Python is a constantly evolving language, and new libraries, frameworks, and tools are being developed all the time. Keep learning and stay up-to-date with the latest trends and developments in Python.'"
      ]
     },
     "execution_count": 14,
     "metadata": {},
     "output_type": "execute_result"
    }
   ],
   "source": [
    "programming_scripting_markup_language = \"python\"\n",
    "chain.run(programming_scripting_markup_language)"
   ]
  }
 ],
 "metadata": {
  "kernelspec": {
   "display_name": "Python 3 (ipykernel)",
   "language": "python",
   "name": "python3"
  },
  "language_info": {
   "codemirror_mode": {
    "name": "ipython",
    "version": 3
   },
   "file_extension": ".py",
   "mimetype": "text/x-python",
   "name": "python",
   "nbconvert_exporter": "python",
   "pygments_lexer": "ipython3",
   "version": "3.8.10"
  }
 },
 "nbformat": 4,
 "nbformat_minor": 5
}
